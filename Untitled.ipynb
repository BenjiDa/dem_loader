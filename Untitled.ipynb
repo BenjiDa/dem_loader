{
 "cells": [
  {
   "cell_type": "code",
   "execution_count": 21,
   "metadata": {},
   "outputs": [],
   "source": [
    "import os\n",
    "import ftplib\n",
    "#import urlparse"
   ]
  },
  {
   "cell_type": "code",
   "execution_count": 51,
   "metadata": {},
   "outputs": [
    {
     "name": "stdout",
     "output_type": "stream",
     "text": [
      "220 ProFTPD 1.3.5b Server (Rocky Mountain Mapping Center's Anonymous FTP Server) [::ffff:136.177.100.107]\n",
      "Your file is this big: 6187\n"
     ]
    },
    {
     "data": {
      "text/plain": [
       "'221 Goodbye.'"
      ]
     },
     "execution_count": 51,
     "metadata": {},
     "output_type": "execute_result"
    }
   ],
   "source": [
    "ftp = ftplib.FTP('rockyftp.cr.usgs.gov')\n",
    "ftp.login()\n",
    "print(ftp.getwelcome())\n",
    "ftp.cwd('/vdelivery/Datasets/Staged/NED/13/IMG/')\n",
    "#ftp.retrlines('LIST')\n",
    "filename = \"imgn33w100_13_thumb.jpg\"\n",
    "\n",
    "ftp.sendcmd(\"TYPE i\")    # Switch to Binary mode\n",
    "print('Your file is this big: ' + str(ftp.size(filename)))\n",
    "\n",
    "localfile = open(filename, 'wb')\n",
    "ftp.retrbinary = ('RETR ' + filename, localfile.write, 1024)\n",
    "localfile.close()\n",
    "ftp.sendcmd(\"TYPE A\")\n",
    "#size = host.path.getsize(\"n33w113.zip\")\n",
    "\n",
    "ftp.quit()"
   ]
  },
  {
   "cell_type": "code",
   "execution_count": 43,
   "metadata": {},
   "outputs": [
    {
     "data": {
      "text/plain": [
       "32512"
      ]
     },
     "execution_count": 43,
     "metadata": {},
     "output_type": "execute_result"
    }
   ],
   "source": [
    "os.system('wget --spider rockyftp.cr.usgs.gov/vdelivery/Datasets/Staged/NED/13/IMG/n33w111.zip')"
   ]
  },
  {
   "cell_type": "code",
   "execution_count": 54,
   "metadata": {
    "collapsed": true
   },
   "outputs": [],
   "source": [
    "\n",
    "ftp = ftplib.FTP('rockyftp.cr.usgs.gov', 'anonymous', 'bmelosh@usgs.gov')#ftp://\n",
    "#url = urlparse.urlparse(\"rockyftp.cr.usgs.gov/vdelivery/Datasets/Staged/NED/13/IMG/\", 'anonymous', 'bmelosh@usgs.gov')\n",
    "#ftp = ftplib.FTP(url.netloc)\n",
    "#ftp.login()\n",
    "ftp.cwd('/vdelivery/Datasets/Staged/NED/13/IMG/')\n",
    "filename = 'USGS_NED_13_n27w081_IMG_thumb.jpg'\n",
    "localfile = open(filename, 'wb')\n",
    "ftp.retrbinary = ('RETR %s' % filename, localfile.write)#, 1024) #can do 4060??\n",
    "ftp.quit()\n",
    "localfile.close()\n"
   ]
  },
  {
   "cell_type": "code",
   "execution_count": 32,
   "metadata": {
    "collapsed": true
   },
   "outputs": [],
   "source": [
    "\n",
    "def grabFile():\n",
    "    filename = 'USGS_NED_13_n27w081_IMG.jpg'\n",
    "    localfile = open(filename, 'wb')\n",
    "    f.retrbinary = ('RETR ' + filename, localfile.write, 1024) #can do 4060??\n",
    "    f.quit()\n",
    "    localfile.close()\n",
    "    \n",
    "    "
   ]
  },
  {
   "cell_type": "code",
   "execution_count": null,
   "metadata": {
    "collapsed": true
   },
   "outputs": [],
   "source": []
  },
  {
   "cell_type": "code",
   "execution_count": null,
   "metadata": {},
   "outputs": [],
   "source": []
  },
  {
   "cell_type": "code",
   "execution_count": 1,
   "metadata": {
    "collapsed": true
   },
   "outputs": [],
   "source": [
    "\n",
    "import urllib.request  # works with python3\n",
    "from bs4 import BeautifulSoup\n",
    "import os\n",
    "import math\n",
    "import wget\n",
    "from wget import bar_thermometer\n",
    "import lxml"
   ]
  },
  {
   "cell_type": "code",
   "execution_count": 2,
   "metadata": {},
   "outputs": [],
   "source": [
    "#URL = 'ftp://rockyftp.cr.usgs.gov/vdelivery/Datasets/Staged/NED/13/IMG/'"
   ]
  },
  {
   "cell_type": "code",
   "execution_count": null,
   "metadata": {},
   "outputs": [],
   "source": []
  },
  {
   "cell_type": "code",
   "execution_count": 4,
   "metadata": {},
   "outputs": [],
   "source": [
    "#retrieve_DEMS(filenames)"
   ]
  },
  {
   "cell_type": "code",
   "execution_count": 5,
   "metadata": {},
   "outputs": [],
   "source": [
    "from download_dem import *"
   ]
  },
  {
   "cell_type": "code",
   "execution_count": 6,
   "metadata": {
    "collapsed": true
   },
   "outputs": [],
   "source": [
    "\n",
    "latlon = [(29.99,-123.65), (31.121, -121.89),(34.567, -118.992),(34.567, -120.0001)]"
   ]
  },
  {
   "cell_type": "code",
   "execution_count": 7,
   "metadata": {},
   "outputs": [],
   "source": [
    "location = write_file_names(latlon, kind='.jpg')"
   ]
  },
  {
   "cell_type": "code",
   "execution_count": 8,
   "metadata": {},
   "outputs": [
    {
     "data": {
      "text/plain": [
       "[{'long_name': 'USGS_NED_13_n30w123_IMG_thumb.jpg',\n",
       "  'short_name': 'imgn30w123_13_thumb.jpg',\n",
       "  'short_name_alternate': 'n30w123_13_thumb.jpg'},\n",
       " {'long_name': 'USGS_NED_13_n32w121_IMG_thumb.jpg',\n",
       "  'short_name': 'imgn32w121_13_thumb.jpg',\n",
       "  'short_name_alternate': 'n32w121_13_thumb.jpg'},\n",
       " {'long_name': 'USGS_NED_13_n35w118_IMG_thumb.jpg',\n",
       "  'short_name': 'imgn35w118_13_thumb.jpg',\n",
       "  'short_name_alternate': 'n35w118_13_thumb.jpg'},\n",
       " {'long_name': 'USGS_NED_13_n35w120_IMG_thumb.jpg',\n",
       "  'short_name': 'imgn35w120_13_thumb.jpg',\n",
       "  'short_name_alternate': 'n35w120_13_thumb.jpg'}]"
      ]
     },
     "execution_count": 8,
     "metadata": {},
     "output_type": "execute_result"
    }
   ],
   "source": [
    "build_file_paths(location, kind='.jpg')"
   ]
  },
  {
   "cell_type": "code",
   "execution_count": 7,
   "metadata": {
    "collapsed": true
   },
   "outputs": [],
   "source": [
    "def create_dir(filenames):\n",
    "\n",
    "    for file in filenames:\n",
    "        new_folder_name = 'dem_%s' % file  # Set name of new folder to put data into\n",
    "        \n",
    "        source_directory = os.getcwd()  # Get current directory\n",
    "        # Set path name to new directory\n",
    "        data_directory = os.path.join(source_directory, new_folder_name)\n",
    "\n",
    "        # Check and see if the local directory currently exists or not, if not\n",
    "        # create that directory\n",
    "        if os.path.exists(data_directory):\n",
    "            os.chdir(data_directory)\n",
    "        else:\n",
    "            os.makedirs(new_folder_name)\n",
    "            os.chdir(data_directory)"
   ]
  },
  {
   "cell_type": "code",
   "execution_count": null,
   "metadata": {},
   "outputs": [],
   "source": []
  },
  {
   "cell_type": "code",
   "execution_count": 18,
   "metadata": {},
   "outputs": [
    {
     "data": {
      "text/plain": [
       "'/Users/bmelosh/projects/dem_loader'"
      ]
     },
     "execution_count": 18,
     "metadata": {},
     "output_type": "execute_result"
    }
   ],
   "source": [
    "%pwd"
   ]
  },
  {
   "cell_type": "code",
   "execution_count": null,
   "metadata": {
    "collapsed": true
   },
   "outputs": [],
   "source": []
  }
 ],
 "metadata": {
  "kernelspec": {
   "display_name": "Python 3",
   "language": "python",
   "name": "python3"
  },
  "language_info": {
   "codemirror_mode": {
    "name": "ipython",
    "version": 3
   },
   "file_extension": ".py",
   "mimetype": "text/x-python",
   "name": "python",
   "nbconvert_exporter": "python",
   "pygments_lexer": "ipython3",
   "version": "3.5.0"
  }
 },
 "nbformat": 4,
 "nbformat_minor": 2
}
