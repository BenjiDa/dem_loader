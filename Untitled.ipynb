{
 "cells": [
  {
   "cell_type": "code",
   "execution_count": 44,
   "metadata": {
    "collapsed": true
   },
   "outputs": [],
   "source": [
    "\n",
    "import ftplib\n",
    "import urlparse"
   ]
  },
  {
   "cell_type": "code",
   "execution_count": 54,
   "metadata": {},
   "outputs": [],
   "source": [
    "\n",
    "ftp = ftplib.FTP('rockyftp.cr.usgs.gov', 'anonymous', 'bmelosh@usgs.gov')#ftp://\n",
    "#url = urlparse.urlparse(\"rockyftp.cr.usgs.gov/vdelivery/Datasets/Staged/NED/13/IMG/\", 'anonymous', 'bmelosh@usgs.gov')\n",
    "#ftp = ftplib.FTP(url.netloc)\n",
    "#ftp.login()\n",
    "ftp.cwd('/vdelivery/Datasets/Staged/NED/13/IMG/')\n",
    "filename = 'USGS_NED_13_n27w081_IMG_thumb.jpg'\n",
    "localfile = open(filename, 'wb')\n",
    "ftp.retrbinary = ('RETR %s' % filename, localfile.write)#, 1024) #can do 4060??\n",
    "ftp.quit()\n",
    "localfile.close()\n",
    "#f.retrlines('LIST')\n",
    "#f.quit()"
   ]
  },
  {
   "cell_type": "code",
   "execution_count": 32,
   "metadata": {
    "collapsed": true
   },
   "outputs": [],
   "source": [
    "\n",
    "def grabFile():\n",
    "    filename = 'USGS_NED_13_n27w081_IMG.jpg'\n",
    "    localfile = open(filename, 'wb')\n",
    "    f.retrbinary = ('RETR ' + filename, localfile.write, 1024) #can do 4060??\n",
    "    f.quit()\n",
    "    localfile.close()\n",
    "    \n",
    "    "
   ]
  },
  {
   "cell_type": "code",
   "execution_count": 33,
   "metadata": {},
   "outputs": [],
   "source": [
    "grabFile()"
   ]
  },
  {
   "cell_type": "code",
   "execution_count": 35,
   "metadata": {},
   "outputs": [
    {
     "name": "stdout",
     "output_type": "stream",
     "text": [
      "README.md                    download_dem_run.py\r\n",
      "USGS_NED_13_n27w081_IMG.jpg  log.txt\r\n",
      "Untitled.ipynb               requirements.txt\r\n",
      "download_dem.py\r\n"
     ]
    }
   ],
   "source": [
    "%ls"
   ]
  },
  {
   "cell_type": "code",
   "execution_count": null,
   "metadata": {
    "collapsed": true
   },
   "outputs": [],
   "source": []
  }
 ],
 "metadata": {
  "kernelspec": {
   "display_name": "Python 2",
   "language": "python",
   "name": "python2"
  },
  "language_info": {
   "codemirror_mode": {
    "name": "ipython",
    "version": 2
   },
   "file_extension": ".py",
   "mimetype": "text/x-python",
   "name": "python",
   "nbconvert_exporter": "python",
   "pygments_lexer": "ipython2",
   "version": "2.7.13"
  }
 },
 "nbformat": 4,
 "nbformat_minor": 2
}
