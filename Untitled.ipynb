{
 "cells": [
  {
   "cell_type": "code",
   "execution_count": null,
   "metadata": {
    "collapsed": true
   },
   "outputs": [],
   "source": []
  },
  {
   "cell_type": "code",
   "execution_count": 6,
   "metadata": {
    "collapsed": true
   },
   "outputs": [],
   "source": [
    "import os\n",
    "import ftplib\n",
    "import urllib.request  # works with python3\n",
    "from bs4 import BeautifulSoup\n",
    "import math\n",
    "import lxml"
   ]
  },
  {
   "cell_type": "code",
   "execution_count": 11,
   "metadata": {
    "collapsed": true
   },
   "outputs": [],
   "source": [
    "#URL = 'ftp://rockyftp.cr.usgs.gov/vdelivery/Datasets/Staged/NED/13/IMG/'"
   ]
  },
  {
   "cell_type": "code",
   "execution_count": 12,
   "metadata": {
    "collapsed": true
   },
   "outputs": [],
   "source": [
    "#retrieve_DEMS(filenames)"
   ]
  },
  {
   "cell_type": "code",
   "execution_count": 1,
   "metadata": {},
   "outputs": [],
   "source": [
    "from download_dem import *\n",
    "\n",
    "latlon = [(29.99,-123.65), (31.121, -121.89),(34.567, -118.992),(34.567, -120.0001)]\n",
    "\n",
    "prefix = write_prefix_names(latlon)\n",
    "filenames = build_file_paths(prefix, kind='.zip')\n",
    "retrieve_DEMS_ftp(filenames)\n"
   ]
  },
  {
   "cell_type": "code",
   "execution_count": 18,
   "metadata": {},
   "outputs": [
    {
     "data": {
      "text/plain": [
       "'/Users/bmelosh/projects/dem_loader'"
      ]
     },
     "execution_count": 18,
     "metadata": {},
     "output_type": "execute_result"
    }
   ],
   "source": [
    "def create_dir(filenames):\n",
    "\n",
    "    for file in filenames:\n",
    "        new_folder_name = 'dem_%s' % file  # Set name of new folder to put data into\n",
    "        \n",
    "        source_directory = os.getcwd()  # Get current directory\n",
    "        # Set path name to new directory\n",
    "        data_directory = os.path.join(source_directory, new_folder_name)\n",
    "\n",
    "        # Check and see if the local directory currently exists or not, if not\n",
    "        # create that directory\n",
    "        if os.path.exists(data_directory):\n",
    "            os.chdir(data_directory)\n",
    "        else:\n",
    "            os.makedirs(new_folder_name)\n",
    "            os.chdir(data_directory)"
   ]
  },
  {
   "cell_type": "code",
   "execution_count": 6,
   "metadata": {
    "collapsed": true
   },
   "outputs": [],
   "source": [
    "from download_dem import *\n",
    "\n",
    "\n",
    "latlon = [(38.5, -122.5), (39.59, -123.4)]#,\n",
    "\n",
    "def write_prefix_names(latlon):\n",
    "    '''\n",
    "    A function to write file names from lat, long positions with 10m resolution. \n",
    "    latlon: a list of latitude, longitude tuples\n",
    "    kind: file format for download only options are '.zip' or '.jpg'\n",
    "    resolution: 13 stands for 1/3 arcsecond which is ~10 m\n",
    "    '''\n",
    "\n",
    "    # Latitude and longitude are rounded up to position of the top\n",
    "    # left corner of the DEM\n",
    "    for x in range(0,len(latlon)):\n",
    "        (lat, lon) = (math.ceil(latlon[x][0]), math.ceil(abs(latlon[x][1])))\n",
    "        latlon[x] = (lat,lon)\n",
    "\n",
    "    # For loop that returns a list of file names corresponding to the input\n",
    "    # latitude, longitude points.\n",
    "    prefix = []\n",
    "    for x in range(0,len(latlon)):\n",
    "        loc = 'n%sw%s' % (str(latlon[x][0]), str(latlon[x][1]))\n",
    "        prefix.append(loc)\n",
    "\n",
    "    return prefix\n",
    "\n"
   ]
  },
  {
   "cell_type": "code",
   "execution_count": 3,
   "metadata": {},
   "outputs": [
    {
     "data": {
      "text/plain": [
       "['n39w122', 'n40w123']"
      ]
     },
     "execution_count": 3,
     "metadata": {},
     "output_type": "execute_result"
    }
   ],
   "source": [
    "prefix = write_prefix_names(latlon)\n",
    "prefix"
   ]
  },
  {
   "cell_type": "code",
   "execution_count": 9,
   "metadata": {},
   "outputs": [
    {
     "data": {
      "text/plain": [
       "123"
      ]
     },
     "execution_count": 9,
     "metadata": {},
     "output_type": "execute_result"
    }
   ],
   "source": [
    "#abs(math.ceil(\n",
    "math.ceil(abs(latlon[0][1]))"
   ]
  },
  {
   "cell_type": "code",
   "execution_count": null,
   "metadata": {
    "collapsed": true
   },
   "outputs": [],
   "source": []
  }
 ],
 "metadata": {
  "kernelspec": {
   "display_name": "Python 3",
   "language": "python",
   "name": "python3"
  },
  "language_info": {
   "codemirror_mode": {
    "name": "ipython",
    "version": 3
   },
   "file_extension": ".py",
   "mimetype": "text/x-python",
   "name": "python",
   "nbconvert_exporter": "python",
   "pygments_lexer": "ipython3",
   "version": "3.5.0"
  }
 },
 "nbformat": 4,
 "nbformat_minor": 2
}
