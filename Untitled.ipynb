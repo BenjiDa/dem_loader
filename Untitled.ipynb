{
 "cells": [
  {
   "cell_type": "code",
   "execution_count": null,
   "metadata": {
    "collapsed": true
   },
   "outputs": [],
   "source": []
  },
  {
   "cell_type": "code",
   "execution_count": 6,
   "metadata": {
    "collapsed": true
   },
   "outputs": [],
   "source": [
    "import os\n",
    "import ftplib\n",
    "import urllib.request  # works with python3\n",
    "from bs4 import BeautifulSoup\n",
    "import math\n",
    "import lxml"
   ]
  },
  {
   "cell_type": "code",
   "execution_count": 11,
   "metadata": {
    "collapsed": true
   },
   "outputs": [],
   "source": [
    "#URL = 'ftp://rockyftp.cr.usgs.gov/vdelivery/Datasets/Staged/NED/13/IMG/'"
   ]
  },
  {
   "cell_type": "code",
   "execution_count": 12,
   "metadata": {
    "collapsed": true
   },
   "outputs": [],
   "source": [
    "#retrieve_DEMS(filenames)"
   ]
  },
  {
   "cell_type": "code",
   "execution_count": 1,
   "metadata": {},
   "outputs": [],
   "source": [
    "from download_dem import *\n",
    "\n",
    "latlon = [(29.99,-123.65), (31.121, -121.89),(34.567, -118.992),(34.567, -120.0001)]\n",
    "\n",
    "prefix = write_prefix_names(latlon)\n",
    "filenames = build_file_paths(prefix, kind='.zip')\n",
    "retrieve_DEMS_ftp(filenames)\n"
   ]
  },
  {
   "cell_type": "code",
   "execution_count": 18,
   "metadata": {},
   "outputs": [
    {
     "data": {
      "text/plain": [
       "'/Users/bmelosh/projects/dem_loader'"
      ]
     },
     "execution_count": 18,
     "metadata": {},
     "output_type": "execute_result"
    }
   ],
   "source": [
    "def create_dir(filenames):\n",
    "\n",
    "    for file in filenames:\n",
    "        new_folder_name = 'dem_%s' % file  # Set name of new folder to put data into\n",
    "        \n",
    "        source_directory = os.getcwd()  # Get current directory\n",
    "        # Set path name to new directory\n",
    "        data_directory = os.path.join(source_directory, new_folder_name)\n",
    "\n",
    "        # Check and see if the local directory currently exists or not, if not\n",
    "        # create that directory\n",
    "        if os.path.exists(data_directory):\n",
    "            os.chdir(data_directory)\n",
    "        else:\n",
    "            os.makedirs(new_folder_name)\n",
    "            os.chdir(data_directory)"
   ]
  }
 ],
 "metadata": {
  "kernelspec": {
   "display_name": "Python 3",
   "language": "python",
   "name": "python3"
  },
  "language_info": {
   "codemirror_mode": {
    "name": "ipython",
    "version": 3
   },
   "file_extension": ".py",
   "mimetype": "text/x-python",
   "name": "python",
   "nbconvert_exporter": "python",
   "pygments_lexer": "ipython3",
   "version": "3.5.0"
  }
 },
 "nbformat": 4,
 "nbformat_minor": 2
}
