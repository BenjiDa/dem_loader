{
 "cells": [
  {
   "cell_type": "code",
   "execution_count": 44,
   "metadata": {
    "collapsed": true
   },
   "outputs": [],
   "source": [
    "\n",
    "import ftplib\n",
    "import urlparse"
   ]
  },
  {
   "cell_type": "code",
   "execution_count": 54,
   "metadata": {
    "collapsed": true
   },
   "outputs": [],
   "source": [
    "\n",
    "ftp = ftplib.FTP('rockyftp.cr.usgs.gov', 'anonymous', 'bmelosh@usgs.gov')#ftp://\n",
    "#url = urlparse.urlparse(\"rockyftp.cr.usgs.gov/vdelivery/Datasets/Staged/NED/13/IMG/\", 'anonymous', 'bmelosh@usgs.gov')\n",
    "#ftp = ftplib.FTP(url.netloc)\n",
    "#ftp.login()\n",
    "ftp.cwd('/vdelivery/Datasets/Staged/NED/13/IMG/')\n",
    "filename = 'USGS_NED_13_n27w081_IMG_thumb.jpg'\n",
    "localfile = open(filename, 'wb')\n",
    "ftp.retrbinary = ('RETR %s' % filename, localfile.write)#, 1024) #can do 4060??\n",
    "ftp.quit()\n",
    "localfile.close()\n",
    "#f.retrlines('LIST')\n",
    "#f.quit()"
   ]
  },
  {
   "cell_type": "code",
   "execution_count": 32,
   "metadata": {
    "collapsed": true
   },
   "outputs": [],
   "source": [
    "\n",
    "def grabFile():\n",
    "    filename = 'USGS_NED_13_n27w081_IMG.jpg'\n",
    "    localfile = open(filename, 'wb')\n",
    "    f.retrbinary = ('RETR ' + filename, localfile.write, 1024) #can do 4060??\n",
    "    f.quit()\n",
    "    localfile.close()\n",
    "    \n",
    "    "
   ]
  },
  {
   "cell_type": "code",
   "execution_count": 33,
   "metadata": {
    "collapsed": true
   },
   "outputs": [],
   "source": [
    "grabFile()"
   ]
  },
  {
   "cell_type": "code",
   "execution_count": 35,
   "metadata": {},
   "outputs": [
    {
     "name": "stdout",
     "output_type": "stream",
     "text": [
      "README.md                    download_dem_run.py\r\n",
      "USGS_NED_13_n27w081_IMG.jpg  log.txt\r\n",
      "Untitled.ipynb               requirements.txt\r\n",
      "download_dem.py\r\n"
     ]
    }
   ],
   "source": [
    "%ls"
   ]
  },
  {
   "cell_type": "code",
   "execution_count": 13,
   "metadata": {
    "collapsed": true
   },
   "outputs": [],
   "source": [
    "\n",
    "import urllib.request  # works with python3\n",
    "from bs4 import BeautifulSoup\n",
    "import os\n",
    "import math\n",
    "import wget\n",
    "from wget import bar_thermometer\n",
    "import lxml"
   ]
  },
  {
   "cell_type": "code",
   "execution_count": 10,
   "metadata": {},
   "outputs": [],
   "source": [
    "\n",
    "\n",
    "# User will input lat long which will be rounded to the top left corner of the DEM.\n",
    "# A DEM will be downloaded that contains the lat,long inputs specified by\n",
    "# the user.\n",
    "\n",
    "def dem_loader(latitude, longitude, resolution=13, kind='IMG'):\n",
    "    '''\n",
    "    A function that downloads DEM data from the National Elevation Dataset. Currently it only works for 1/3 arcsecond data (~10m),\n",
    "    but this can be expanded upon.\n",
    "\n",
    "    User inputs:\n",
    "    latitude = latitude position of area of interest\n",
    "    longitude = longitude position of area of interest\n",
    "    resoultion = the data resolution (default 1/3 arcsecond resolution (~10 meter))\n",
    "    kind = the format (default is .IMG), this can be expanded upon in the future\n",
    "    '''\n",
    "\n",
    "    #Latitude and longitude are rounded up to position of the top\n",
    "    #left corner of the DEM\n",
    "    longitude = abs(longitude)  # Get absolute value of longitude\n",
    "    longitude = math.ceil(longitude) # Round up\n",
    "    latitude = math.ceil(latitude) # Round up\n",
    "    \n",
    "\n",
    "    location = 'n%sw%s' % (str(latitude), str(longitude)) # Set the string that points to the DEM\n",
    "    short_name = location + '.zip'\n",
    "    long_name = 'USGS_NED_%s_%s_%s.zip' % (str(resolution), location, kind) # Set to full string\n",
    "    new_folder_name = 'dem_%s' % location # Set name of new folder to put data into\n",
    "\n",
    "    URL = 'ftp://rockyftp.cr.usgs.gov/vdelivery/Datasets/Staged/NED/%s/%s/' % (str(resolution), kind) # Full URL to DEM\n",
    "    filenames = ['n39w122', 'n39w122'] \n",
    "\n",
    "    \n",
    "    \n",
    "    \n",
    "# def write_file_dir(filenames):\n",
    "#     all_file_paths = build_file_paths(filenames)\n",
    "    \n",
    "#     for path in all_file_paths:\n",
    "    source_directory = os.getcwd() # Get current directory\n",
    "    data_directory = os.path.join(source_directory, 'dem_%s' % path) # Set path name to new directory\n",
    "\n",
    "    # Check and see if the local directory currently exists or not, if not create that directory\n",
    "    if os.path.exists(data_directory):\n",
    "        os.chdir(data_directory)\n",
    "    else:\n",
    "        os.makedirs('dem_%s' % path)\n",
    "        os.chdir(data_directory)\n",
    "\n",
    "    \n",
    "\n",
    "def build_file_paths(filenames):\n",
    "    all_filename_possibilities = []\n",
    "    for file in filenames: \n",
    "        #you can add as many odd filename builders here as you want\n",
    "        f = {'short_name': file + '.zip', 'long_name':'USGS_NED_13_' + file + '.zip'}\n",
    "        all_filename_possibilities.append(f)\n",
    "\n",
    "    return all_filename_possibilities \n",
    "\n",
    "\n",
    "def retrieve_DEMS(filenames): \n",
    "    all_file_paths = build_file_paths(filenames) \n",
    "\n",
    "    for path in all_file_paths: \n",
    "        for k,v in path.items(): \n",
    "            try:\n",
    "                ftp_path = URL + v \n",
    "                wget.download(ftp_path, bar=bar_thermometer, out=v)#\n",
    "\n",
    "            except urllib.request.URLError:\n",
    "                print('%s does not exist' % ftp_path)\n",
    "                continue\n",
    "\n"
   ]
  },
  {
   "cell_type": "code",
   "execution_count": 11,
   "metadata": {},
   "outputs": [
    {
     "data": {
      "text/plain": [
       "[{'long_name': 'USGS_NED_13_n39w122.zip', 'short_name': 'n39w122.zip'},\n",
       " {'long_name': 'USGS_NED_13_n31w093.zip', 'short_name': 'n31w093.zip'}]"
      ]
     },
     "execution_count": 11,
     "metadata": {},
     "output_type": "execute_result"
    }
   ],
   "source": [
    "URL = 'ftp://rockyftp.cr.usgs.gov/vdelivery/Datasets/Staged/NED/13/IMG/'\n",
    "filenames = ['n39w122', 'n31w093']\n",
    "\n",
    "build_file_paths(filenames)"
   ]
  },
  {
   "cell_type": "code",
   "execution_count": 12,
   "metadata": {},
   "outputs": [
    {
     "name": "stdout",
     "output_type": "stream",
     "text": [
      "ftp://rockyftp.cr.usgs.gov/vdelivery/Datasets/Staged/NED/13/IMG/USGS_NED_13_n39w122.zip does not exist\n",
      "ftp://rockyftp.cr.usgs.gov/vdelivery/Datasets/Staged/NED/13/IMG/USGS_NED_13_n31w093.zip does not exist\n"
     ]
    }
   ],
   "source": [
    "#retrieve_DEMS(filenames)"
   ]
  },
  {
   "cell_type": "code",
   "execution_count": 61,
   "metadata": {},
   "outputs": [],
   "source": []
  },
  {
   "cell_type": "code",
   "execution_count": 59,
   "metadata": {
    "collapsed": true
   },
   "outputs": [],
   "source": [
    "lat = [29.999,31.121, 34.567]\n",
    "lon = [-123.6, -121.896, -118.992]"
   ]
  },
  {
   "cell_type": "code",
   "execution_count": 60,
   "metadata": {},
   "outputs": [
    {
     "data": {
      "text/plain": [
       "([30, 32, 35], [124, 122, 119])"
      ]
     },
     "execution_count": 60,
     "metadata": {},
     "output_type": "execute_result"
    }
   ],
   "source": [
    "write_file_names(latitude=lat, longitude = lon)"
   ]
  },
  {
   "cell_type": "code",
   "execution_count": null,
   "metadata": {
    "collapsed": true
   },
   "outputs": [],
   "source": []
  }
 ],
 "metadata": {
  "kernelspec": {
   "display_name": "Python 3",
   "language": "python",
   "name": "python3"
  },
  "language_info": {
   "codemirror_mode": {
    "name": "ipython",
    "version": 3
   },
   "file_extension": ".py",
   "mimetype": "text/x-python",
   "name": "python",
   "nbconvert_exporter": "python",
   "pygments_lexer": "ipython3",
   "version": "3.5.0"
  }
 },
 "nbformat": 4,
 "nbformat_minor": 2
}
