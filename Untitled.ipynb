{
 "cells": [
  {
   "cell_type": "code",
   "execution_count": 44,
   "metadata": {
    "collapsed": true
   },
   "outputs": [],
   "source": [
    "\n",
    "import ftplib\n",
    "import urlparse"
   ]
  },
  {
   "cell_type": "code",
   "execution_count": 54,
   "metadata": {
    "collapsed": true
   },
   "outputs": [],
   "source": [
    "\n",
    "ftp = ftplib.FTP('rockyftp.cr.usgs.gov', 'anonymous', 'bmelosh@usgs.gov')#ftp://\n",
    "#url = urlparse.urlparse(\"rockyftp.cr.usgs.gov/vdelivery/Datasets/Staged/NED/13/IMG/\", 'anonymous', 'bmelosh@usgs.gov')\n",
    "#ftp = ftplib.FTP(url.netloc)\n",
    "#ftp.login()\n",
    "ftp.cwd('/vdelivery/Datasets/Staged/NED/13/IMG/')\n",
    "filename = 'USGS_NED_13_n27w081_IMG_thumb.jpg'\n",
    "localfile = open(filename, 'wb')\n",
    "ftp.retrbinary = ('RETR %s' % filename, localfile.write)#, 1024) #can do 4060??\n",
    "ftp.quit()\n",
    "localfile.close()\n",
    "#f.retrlines('LIST')\n",
    "#f.quit()"
   ]
  },
  {
   "cell_type": "code",
   "execution_count": 32,
   "metadata": {
    "collapsed": true
   },
   "outputs": [],
   "source": [
    "\n",
    "def grabFile():\n",
    "    filename = 'USGS_NED_13_n27w081_IMG.jpg'\n",
    "    localfile = open(filename, 'wb')\n",
    "    f.retrbinary = ('RETR ' + filename, localfile.write, 1024) #can do 4060??\n",
    "    f.quit()\n",
    "    localfile.close()\n",
    "    \n",
    "    "
   ]
  },
  {
   "cell_type": "code",
   "execution_count": null,
   "metadata": {
    "collapsed": true
   },
   "outputs": [],
   "source": []
  },
  {
   "cell_type": "code",
   "execution_count": null,
   "metadata": {},
   "outputs": [],
   "source": []
  },
  {
   "cell_type": "code",
   "execution_count": 1,
   "metadata": {
    "collapsed": true
   },
   "outputs": [],
   "source": [
    "\n",
    "import urllib.request  # works with python3\n",
    "from bs4 import BeautifulSoup\n",
    "import os\n",
    "import math\n",
    "import wget\n",
    "from wget import bar_thermometer\n",
    "import lxml"
   ]
  },
  {
   "cell_type": "code",
   "execution_count": 2,
   "metadata": {},
   "outputs": [],
   "source": []
  },
  {
   "cell_type": "code",
   "execution_count": 3,
   "metadata": {},
   "outputs": [
    {
     "data": {
      "text/plain": [
       "[{'long_name': 'USGS_NED_13_n39w122.zip', 'short_name': 'n39w122.zip'},\n",
       " {'long_name': 'USGS_NED_13_n31w093.zip', 'short_name': 'n31w093.zip'}]"
      ]
     },
     "execution_count": 3,
     "metadata": {},
     "output_type": "execute_result"
    }
   ],
   "source": [
    "URL = 'ftp://rockyftp.cr.usgs.gov/vdelivery/Datasets/Staged/NED/13/IMG/'\n",
    "filenames = ['n39w122', 'n31w093']\n",
    "\n",
    "build_file_paths(filenames)"
   ]
  },
  {
   "cell_type": "code",
   "execution_count": 4,
   "metadata": {},
   "outputs": [],
   "source": [
    "#retrieve_DEMS(filenames)"
   ]
  },
  {
   "cell_type": "code",
   "execution_count": 2,
   "metadata": {},
   "outputs": [],
   "source": [
    "from download_dem import *"
   ]
  },
  {
   "cell_type": "code",
   "execution_count": 3,
   "metadata": {
    "collapsed": true
   },
   "outputs": [],
   "source": [
    "lat = [29.999,31.121, 34.567, 34.567]\n",
    "lon = [-123.6, -121.896, -118.992, -120.0001]\n",
    "\n",
    "latlon = [(29.99,-123.65), (31.121, -121.89),(34.567, -118.992),(34.567, -120.0001)]"
   ]
  },
  {
   "cell_type": "code",
   "execution_count": 4,
   "metadata": {},
   "outputs": [
    {
     "data": {
      "text/plain": [
       "['n30w123.zip', 'n32w121.zip', 'n35w118.zip', 'n35w120.zip']"
      ]
     },
     "execution_count": 4,
     "metadata": {},
     "output_type": "execute_result"
    }
   ],
   "source": [
    "write_file_names(latlon, kind='.zip')"
   ]
  },
  {
   "cell_type": "code",
   "execution_count": 5,
   "metadata": {},
   "outputs": [],
   "source": [
    "location = write_file_names(latlon, kind='.jpg')"
   ]
  },
  {
   "cell_type": "code",
   "execution_count": 6,
   "metadata": {},
   "outputs": [
    {
     "data": {
      "text/plain": [
       "[{'long_name': 'USGS_NED_13_n30w123.jpg_IMG.zip',\n",
       "  'short_name': 'n30w123.jpg.zip'},\n",
       " {'long_name': 'USGS_NED_13_n32w121.jpg_IMG.zip',\n",
       "  'short_name': 'n32w121.jpg.zip'},\n",
       " {'long_name': 'USGS_NED_13_n35w118.jpg_IMG.zip',\n",
       "  'short_name': 'n35w118.jpg.zip'},\n",
       " {'long_name': 'USGS_NED_13_n35w120.jpg_IMG.zip',\n",
       "  'short_name': 'n35w120.jpg.zip'}]"
      ]
     },
     "execution_count": 6,
     "metadata": {},
     "output_type": "execute_result"
    }
   ],
   "source": [
    "build_file_paths(location)"
   ]
  },
  {
   "cell_type": "code",
   "execution_count": null,
   "metadata": {
    "collapsed": true
   },
   "outputs": [],
   "source": []
  }
 ],
 "metadata": {
  "kernelspec": {
   "display_name": "Python 3",
   "language": "python",
   "name": "python3"
  },
  "language_info": {
   "codemirror_mode": {
    "name": "ipython",
    "version": 3
   },
   "file_extension": ".py",
   "mimetype": "text/x-python",
   "name": "python",
   "nbconvert_exporter": "python",
   "pygments_lexer": "ipython3",
   "version": "3.5.0"
  }
 },
 "nbformat": 4,
 "nbformat_minor": 2
}
