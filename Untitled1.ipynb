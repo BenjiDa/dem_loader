{
 "cells": [
  {
   "cell_type": "code",
   "execution_count": 2,
   "metadata": {
    "collapsed": true
   },
   "outputs": [],
   "source": [
    "from bs4 import BeautifulSoup\n",
    "import os\n",
    "import urllib2\n",
    "#i think i need to install lxml too"
   ]
  },
  {
   "cell_type": "code",
   "execution_count": 11,
   "metadata": {
    "collapsed": false
   },
   "outputs": [
    {
     "data": {
      "text/plain": [
       "'ftp://rockyftp.cr.usgs.gov/vdelivery/Datasets/Staged/NED/13/IMG/'"
      ]
     },
     "execution_count": 11,
     "metadata": {},
     "output_type": "execute_result"
    }
   ],
   "source": [
    "latitude = 40\n",
    "longitude = 124\n",
    "\n",
    "resolution = 13 #for 1/3 arc second data\n",
    "kind = 'IMG' #for .img files\n",
    "location = 'n%sw%s' % (str(latitude), str(longitude))\n",
    "name = 'USGS_NED_%s_%s_%s.zip' % (str(resolution), location, kind)\n",
    "\n",
    "URL = 'ftp://rockyftp.cr.usgs.gov/vdelivery/Datasets/Staged/NED/%s/%s/' % (str(resolution), kind)\n",
    "URL"
   ]
  },
  {
   "cell_type": "code",
   "execution_count": 22,
   "metadata": {
    "collapsed": false
   },
   "outputs": [
    {
     "ename": "NameError",
     "evalue": "name 'short_name' is not defined",
     "output_type": "error",
     "traceback": [
      "\u001b[0;31m---------------------------------------------------------------------------\u001b[0m",
      "\u001b[0;31mNameError\u001b[0m                                 Traceback (most recent call last)",
      "\u001b[0;32m<ipython-input-22-8ed910410dcf>\u001b[0m in \u001b[0;36m<module>\u001b[0;34m()\u001b[0m\n\u001b[1;32m      9\u001b[0m \u001b[0;31m#Obtain/create local directories to save files to\u001b[0m\u001b[0;34m\u001b[0m\u001b[0;34m\u001b[0m\u001b[0m\n\u001b[1;32m     10\u001b[0m \u001b[0msource_directory\u001b[0m \u001b[0;34m=\u001b[0m \u001b[0mos\u001b[0m\u001b[0;34m.\u001b[0m\u001b[0mgetcwd\u001b[0m\u001b[0;34m(\u001b[0m\u001b[0;34m)\u001b[0m\u001b[0;34m\u001b[0m\u001b[0m\n\u001b[0;32m---> 11\u001b[0;31m \u001b[0mdata_directory\u001b[0m \u001b[0;34m=\u001b[0m \u001b[0mos\u001b[0m\u001b[0;34m.\u001b[0m\u001b[0mpath\u001b[0m\u001b[0;34m.\u001b[0m\u001b[0mjoin\u001b[0m\u001b[0;34m(\u001b[0m\u001b[0msource_directory\u001b[0m\u001b[0;34m,\u001b[0m \u001b[0mshort_name\u001b[0m\u001b[0;34m)\u001b[0m\u001b[0;34m\u001b[0m\u001b[0m\n\u001b[0m",
      "\u001b[0;31mNameError\u001b[0m: name 'short_name' is not defined"
     ]
    }
   ],
   "source": [
    "#Find all files and sub-directories within the HTML of the page\n",
    "#page = urllib2.urlopen(URL)\n",
    "#soup = BeautifulSoup(page, \"lxml\")#do i need to install lxml??\n",
    "\n",
    "\n",
    "#Obtain/create local directories to save files to\n",
    "source_directory = os.getcwd()\n",
    "data_directory = os.path.join(source_directory, short_name)\n"
   ]
  },
  {
   "cell_type": "code",
   "execution_count": null,
   "metadata": {
    "collapsed": true
   },
   "outputs": [],
   "source": [
    "\n",
    "\n",
    "#Check and see if the local directory currently exists or not\n",
    "if os.path.exists(data_directory):\n",
    "    os.chdir(data_directory)\n",
    "else:\n",
    "    os.makedirs(short_name)\n",
    "    os.chdir(data_directory)\n",
    "\n",
    "#Download all available files\n",
    "for i in range(0, len(entries)):\n",
    "    file = entries[i].a[\"href\"]\n",
    "    URL_with_file = URL + file\n",
    "    if file != \"log\":\n",
    "        print URL_with_file\n",
    "        wget.download(URL_with_file)\n",
    "    print \"\\n\"\n",
    "\n",
    "os.chdir(source_directory)\n",
    "\n",
    "#If sub-directories are present, recurse into them\n",
    "for i in range(0, num_sub_dirs):\n",
    "    sub_dir_name = sub_dirs[i].a[\"href\"]\n",
    "    sub_dir_URL = URL + sub_dir_name\n",
    "    os.chdir(data_directory)\n",
    "    download_data(data_type, sub_dir_URL, sub_dir_name)"
   ]
  },
  {
   "cell_type": "code",
   "execution_count": 27,
   "metadata": {
    "collapsed": false
   },
   "outputs": [
    {
     "data": {
      "text/plain": [
       "['None']"
      ]
     },
     "execution_count": 27,
     "metadata": {},
     "output_type": "execute_result"
    }
   ],
   "source": [
    "#URL = \"http://opentopo.sdsc.edu/datasetMetadata?otCollectionID=OT.\" + requested_id\n",
    "short_name_line = 9\n",
    "page = urllib2.urlopen(URL)\n",
    "soup = BeautifulSoup(page, \"lxml\")\n",
    "div = str(soup.find('div', class_ = 'well'))\n",
    "log = open(\"log.txt\", \"w\")\n",
    "log.write(div)\n",
    "log.close()\n",
    "f = open(\"log.txt\")\n",
    "\n",
    "\n",
    "#lines = f.readlines()\n",
    "#line = lines[short_name_line]\n",
    "#short_name = line[short_name_shear:]\n",
    "#f.close()\n",
    "#os.remove(\"log.txt\")\n",
    "#short_name = short_name.rstrip()\n"
   ]
  },
  {
   "cell_type": "code",
   "execution_count": 28,
   "metadata": {
    "collapsed": false
   },
   "outputs": [
    {
     "ename": "IndexError",
     "evalue": "list index out of range",
     "output_type": "error",
     "traceback": [
      "\u001b[0;31m---------------------------------------------------------------------------\u001b[0m",
      "\u001b[0;31mIndexError\u001b[0m                                Traceback (most recent call last)",
      "\u001b[0;32m<ipython-input-28-d948ddbee5a7>\u001b[0m in \u001b[0;36m<module>\u001b[0;34m()\u001b[0m\n\u001b[0;32m----> 1\u001b[0;31m \u001b[0mline\u001b[0m \u001b[0;34m=\u001b[0m \u001b[0mlines\u001b[0m\u001b[0;34m[\u001b[0m\u001b[0;36m9\u001b[0m\u001b[0;34m]\u001b[0m\u001b[0;34m\u001b[0m\u001b[0m\n\u001b[0m",
      "\u001b[0;31mIndexError\u001b[0m: list index out of range"
     ]
    }
   ],
   "source": [
    "line = lines[9]"
   ]
  },
  {
   "cell_type": "code",
   "execution_count": null,
   "metadata": {
    "collapsed": true
   },
   "outputs": [],
   "source": []
  }
 ],
 "metadata": {
  "kernelspec": {
   "display_name": "Python [conda env:TopoDL]",
   "language": "python",
   "name": "conda-env-TopoDL-py"
  },
  "language_info": {
   "codemirror_mode": {
    "name": "ipython",
    "version": 2
   },
   "file_extension": ".py",
   "mimetype": "text/x-python",
   "name": "python",
   "nbconvert_exporter": "python",
   "pygments_lexer": "ipython2",
   "version": "2.7.13"
  }
 },
 "nbformat": 4,
 "nbformat_minor": 1
}
